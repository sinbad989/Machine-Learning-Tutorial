{
 "cells": [
  {
   "cell_type": "markdown",
   "metadata": {},
   "source": [
    "# Using Keras for Machine Learning"
   ]
  },
  {
   "cell_type": "code",
   "execution_count": 4,
   "metadata": {},
   "outputs": [],
   "source": [
    "from keras.models import Sequential\n",
    "from keras.layers import Dense\n",
    "import numpy\n",
    "\n",
    "numpy.random.seed(7)"
   ]
  },
  {
   "cell_type": "code",
   "execution_count": 8,
   "metadata": {},
   "outputs": [],
   "source": [
    "# Loading data\n",
    "\n",
    "dataset = numpy.loadtxt('pima-indians-diabetes.csv',delimiter=',')\n",
    "X = dataset[:,0:8]\n",
    "Y = dataset[:,8]"
   ]
  },
  {
   "cell_type": "markdown",
   "metadata": {},
   "source": [
    "# Define the Model\n",
    "**Models** in keras are defined as a *sequence of layers*: we add a **sequential model** and add layers one at a time until we are happy with our network topology.\n",
    "\n",
    "In our case, we're going to explore a *fully-connected network structure* with 3 layers. Fully connected are defined using the **Dense class**. \n",
    "  - number of neurons in the layer are specified as the first argument\n",
    "  - initialization method as the second argument using **init**\n",
    "  - activation function are specified using the **activation** argument\n",
    "  \n",
    "**Our example architecture:**\n",
    " - we use **relu** as our activation function for the first two layers and **sigmoid** for the output layer\n",
    " - First layer has 12 neurons and expect 8 input variables\n",
    " - Second layer, a hidden layer, has 8 neurons \n",
    " - Output layer has 1 neuron to predict the class (onset of diabeters or not)\n",
    " "
   ]
  },
  {
   "cell_type": "code",
   "execution_count": 12,
   "metadata": {},
   "outputs": [],
   "source": [
    "# Defining the model\n",
    "model = Sequential()\n",
    "model.add(Dense(12, input_dim=8,activation='relu'))\n",
    "model.add(Dense(8,activation='relu'))\n",
    "model.add(Dense(1,activation='sigmoid'))"
   ]
  },
  {
   "cell_type": "markdown",
   "metadata": {},
   "source": [
    "# Compile the model\n",
    "\n",
    "Compiling the model take advantage of the efficient numerical libraries such as the Theano or Tensorflow. When compiling, we must specify some additional properties required when training the network. \n",
    "  > Note: training a network means finding the best set of weights to make the prediction for this problem\n",
    "  \n",
    "We must specify the **loss function** to use to evaluate a set of weights, the **optimizer** used to search through different weights for the network and any **optimal metrics** we would like to collect and report during training."
   ]
  },
  {
   "cell_type": "code",
   "execution_count": 13,
   "metadata": {},
   "outputs": [],
   "source": [
    "# compile model\n",
    "model.compile(loss='binary_crossentropy',optimizer='adam',metrics=['accuracy'])"
   ]
  },
  {
   "cell_type": "markdown",
   "metadata": {},
   "source": [
    "# Fit model\n",
    "\n",
    "After defining the model and compiling it ready for an efficient computation. We can now train our model on our loaded data by calling the **fit()** function on the model.\n",
    "\n",
    "The training process runs on a fixed number of iterations known as **epoch**. We can specify also the number of instances that are evaluated before a weight update in the network is performed, called the batch size and set using the argument **batch_size**. "
   ]
  },
  {
   "cell_type": "code",
   "execution_count": 14,
   "metadata": {},
   "outputs": [
    {
     "name": "stdout",
     "output_type": "stream",
     "text": [
      "Epoch 1/150\n",
      "768/768 [==============================] - 3s 3ms/step - loss: 5.4949 - acc: 0.6224- ETA: 7s - loss: 5.6116 - acc: \n",
      "Epoch 2/150\n",
      "768/768 [==============================] - 1s 737us/step - loss: 5.2411 - acc: 0.6341\n",
      "Epoch 3/150\n",
      "768/768 [==============================] - 1s 1ms/step - loss: 5.0778 - acc: 0.6302A: 3s - loss: 5.1877 -  - ETA: 0s - loss: 5.2490 - acc: 0.620 - ETA: 0s - loss: 5.1923 - acc: 0\n",
      "Epoch 4/150\n",
      "768/768 [==============================] - 1s 966us/step - loss: 4.7230 - acc: 0.6458 0s - loss: 4.8443 - acc:\n",
      "Epoch 5/150\n",
      "768/768 [==============================] - 0s 552us/step - loss: 4.0299 - acc: 0.6133 0s - loss: 4.9048 - acc: 0.560 - ETA: 0s - loss: 5.0521 - acc: 0\n",
      "Epoch 6/150\n",
      "768/768 [==============================] - 0s 601us/step - loss: 3.5770 - acc: 0.6107\n",
      "Epoch 7/150\n",
      "768/768 [==============================] - 1s 856us/step - loss: 3.3600 - acc: 0.6341 0s - loss: 3.0834 - acc: 0.6 - ETA: 1s - loss: 3.7314 - acc:  - ETA: 0s - loss: 3.3821 - acc: 0.63\n",
      "Epoch 8/150\n",
      "768/768 [==============================] - 1s 733us/step - loss: 1.6831 - acc: 0.6315 0s - loss: 1.8331 - acc: 0.\n",
      "Epoch 9/150\n",
      "768/768 [==============================] - ETA: 0s - loss: 0.8025 - acc: 0.6500- ETA: 0s - loss: 0.7680 - acc: 0.67 - ETA: 0s - loss: 0.7716 - acc - 1s 907us/step - loss: 0.8020 - acc: 0.6523\n",
      "Epoch 10/150\n",
      "768/768 [==============================] - 0s 416us/step - loss: 0.7296 - acc: 0.6654 0s - loss: 0.8017 - acc: 0\n",
      "Epoch 11/150\n",
      "768/768 [==============================] - 1s 953us/step - loss: 0.6992 - acc: 0.6758 0s - loss: 0.6814 - acc\n",
      "Epoch 12/150\n",
      "768/768 [==============================] - 1s 975us/step - loss: 0.6580 - acc: 0.6680 0s - loss: 0.6710 - ac\n",
      "Epoch 13/150\n",
      "768/768 [==============================] - 1s 1ms/step - loss: 0.6784 - acc: 0.6641\n",
      "Epoch 14/150\n",
      "768/768 [==============================] - 1s 1ms/step - loss: 0.6315 - acc: 0.6784A: 1s - loss: 0.5109 - acc: 0.7 - ETA: 0s - loss: 0.5187 - a\n",
      "Epoch 15/150\n",
      "768/768 [==============================] - ETA: 0s - loss: 0.6277 - acc: 0.6642- ETA: 0s - loss: 0.6582 - acc - 1s 1ms/step - loss: 0.6280 - acc: 0.6667\n",
      "Epoch 16/150\n",
      "768/768 [==============================] - 0s 481us/step - loss: 0.6222 - acc: 0.6849 0s - loss: 0.5643 - acc: 0\n",
      "Epoch 17/150\n",
      "768/768 [==============================] - ETA: 0s - loss: 0.6002 - acc: 0.681 - 0s 502us/step - loss: 0.6016 - acc: 0.6823\n",
      "Epoch 18/150\n",
      "768/768 [==============================] - 1s 891us/step - loss: 0.5873 - acc: 0.7005 0s - loss: 0.5551 - acc: 0.72 - ETA: 0s - loss: 0.5645 - acc: 0.7 - ETA: 0s - loss: 0.6115 - acc: 0\n",
      "Epoch 19/150\n",
      "768/768 [==============================] - 0s 497us/step - loss: 0.5959 - acc: 0.6927\n",
      "Epoch 20/150\n",
      "768/768 [==============================] - 1s 842us/step - loss: 0.6123 - acc: 0.6901 0s - loss: 0.6113 - acc: 0\n",
      "Epoch 21/150\n",
      "768/768 [==============================] - 1s 2ms/step - loss: 0.5877 - acc: 0.7148A: 0s - loss: 0.5809 - acc: 0.7 - ETA: 0s - loss: 0.5758 - acc: 0.\n",
      "Epoch 22/150\n",
      "768/768 [==============================] - 1s 733us/step - loss: 0.6079 - acc: 0.6992\n",
      "Epoch 23/150\n",
      "768/768 [==============================] - 1s 1ms/step - loss: 0.5934 - acc: 0.6953A: 0s - loss: 0.6791 - acc: 0.635 - ETA: 0s - loss: 0.6673 - acc - ETA: 0s - loss: 0.5885 - acc:\n",
      "Epoch 24/150\n",
      "768/768 [==============================] - 0s 549us/step - loss: 0.6566 - acc: 0.6836\n",
      "Epoch 25/150\n",
      "768/768 [==============================] - 0s 192us/step - loss: 0.5800 - acc: 0.7096\n",
      "Epoch 26/150\n",
      "768/768 [==============================] - 1s 959us/step - loss: 0.5850 - acc: 0.6953 0s - loss: 0.5766 - acc: 0.7 - ETA: 0s - loss: 0.5841 - acc: 0.69\n",
      "Epoch 27/150\n",
      "768/768 [==============================] - 1s 897us/step - loss: 0.6045 - acc: 0.7122 2s - loss: 0.5357 -\n",
      "Epoch 28/150\n",
      "768/768 [==============================] - 1s 702us/step - loss: 0.5858 - acc: 0.7005 0s - loss: 0.5937 - acc: 0\n",
      "Epoch 29/150\n",
      "768/768 [==============================] - 1s 786us/step - loss: 0.5687 - acc: 0.7214\n",
      "Epoch 30/150\n",
      "768/768 [==============================] - 1s 1ms/step - loss: 0.5735 - acc: 0.7109A: 0s - loss: 0.5808 - acc: 0.7 - ETA: 0s - loss: 0.5656 - acc: 0 - ETA: 0s - loss: 0.5775 - acc: 0.7 - ETA: 0s - loss: 0.5804 - acc: 0.70 - ETA: 0s - loss: 0.5757 - acc: 0.71\n",
      "Epoch 31/150\n",
      "520/768 [===================>..........] - ETA: 0s - loss: 0.5576 - acc: 0.7308"
     ]
    },
    {
     "name": "stderr",
     "output_type": "stream",
     "text": [
      "C:\\Users\\Lenovo\\Anaconda3\\lib\\site-packages\\keras\\callbacks.py:116: UserWarning: Method on_batch_end() is slow compared to the batch update (0.103183). Check your callbacks.\n",
      "  % delta_t_median)\n"
     ]
    },
    {
     "name": "stdout",
     "output_type": "stream",
     "text": [
      "768/768 [==============================] - 0s 612us/step - loss: 0.5676 - acc: 0.7109\n",
      "Epoch 32/150\n",
      "768/768 [==============================] - 1s 974us/step - loss: 0.5712 - acc: 0.7161\n",
      "Epoch 33/150\n",
      "768/768 [==============================] - 1s 910us/step - loss: 0.5718 - acc: 0.7188 0s - loss: 0.6055 - acc: 0.70 - ETA: 0s - loss: 0.5606 - acc: 0.72 - ETA: 0s - loss: 0.5631 - acc: 0.717 - ETA: 0s - loss: 0.5615 - acc: 0\n",
      "Epoch 34/150\n",
      "768/768 [==============================] - 1s 878us/step - loss: 0.5960 - acc: 0.7083 0s - loss: 0.6685 - ac\n",
      "Epoch 35/150\n",
      "768/768 [==============================] - 1s 901us/step - loss: 0.5919 - acc: 0.7109 0s - loss: 0.5511 - acc:  - ETA: 0s - loss: 0.5886 - acc: 0.71\n",
      "Epoch 36/150\n",
      "768/768 [==============================] - ETA: 0s - loss: 0.5783 - acc: 0.7197- ETA: 0s - loss: 0.5934 - acc: 0.71 - ETA: 0s - loss: 0.6169 - acc: - 1s 848us/step - loss: 0.5758 - acc: 0.7201\n",
      "Epoch 37/150\n",
      "768/768 [==============================] - 1s 993us/step - loss: 0.6105 - acc: 0.6862 0s - loss: 0.6068 - acc: 0.69\n",
      "Epoch 38/150\n",
      "768/768 [==============================] - 0s 494us/step - loss: 0.5570 - acc: 0.7292 0s - loss: 0.5224 - acc: 0.7\n",
      "Epoch 39/150\n",
      "768/768 [==============================] - 0s 598us/step - loss: 0.5686 - acc: 0.7188\n",
      "Epoch 40/150\n",
      "768/768 [==============================] - 0s 237us/step - loss: 0.5659 - acc: 0.7279\n",
      "Epoch 41/150\n",
      "768/768 [==============================] - 0s 523us/step - loss: 0.5559 - acc: 0.7253 0s - loss: 0.5707 - acc: 0\n",
      "Epoch 42/150\n",
      "768/768 [==============================] - 1s 1ms/step - loss: 0.5394 - acc: 0.7331A: 0s - loss: 0.570 - ETA: 0s - loss: 0.5425 - acc: 0.73\n",
      "Epoch 43/150\n",
      "768/768 [==============================] - 1s 686us/step - loss: 0.5558 - acc: 0.7266\n",
      "Epoch 44/150\n",
      "768/768 [==============================] - ETA: 0s - loss: 0.5610 - acc: 0.725 - 0s 555us/step - loss: 0.5570 - acc: 0.7292\n",
      "Epoch 45/150\n",
      "768/768 [==============================] - 0s 548us/step - loss: 0.5505 - acc: 0.7240\n",
      "Epoch 46/150\n",
      "768/768 [==============================] - 0s 593us/step - loss: 0.5796 - acc: 0.7227 0s - loss: 0.5798 - acc: 0.72\n",
      "Epoch 47/150\n",
      "768/768 [==============================] - 1s 1ms/step - loss: 0.5904 - acc: 0.7031\n",
      "Epoch 48/150\n",
      "768/768 [==============================] - ETA: 0s - loss: 0.5461 - acc: 0.7236- ETA: 0s - loss: 0.5454 - acc:  - ETA: 0s - loss: 0.5341 - acc: 0.73 - ETA: 0s - loss: 0.5358 - acc: 0.734 - ETA: 0s - loss: 0.5363 - acc: 0 - 1s 1ms/step - loss: 0.5489 - acc: 0.7227\n",
      "Epoch 49/150\n",
      " 80/768 [==>...........................] - ETA: 2s - loss: 0.4940 - acc: 0.7875- ETA: 1s - loss: 0.5208 - acc: 0.771"
     ]
    },
    {
     "name": "stderr",
     "output_type": "stream",
     "text": [
      "C:\\Users\\Lenovo\\Anaconda3\\lib\\site-packages\\keras\\callbacks.py:116: UserWarning: Method on_batch_end() is slow compared to the batch update (0.136374). Check your callbacks.\n",
      "  % delta_t_median)\n"
     ]
    },
    {
     "name": "stdout",
     "output_type": "stream",
     "text": [
      "768/768 [==============================] - 1s 2ms/step - loss: 0.5695 - acc: 0.7253A: 0s - loss: 0.5490 - acc: 0.72\n",
      "Epoch 50/150\n",
      "768/768 [==============================] - 1s 785us/step - loss: 0.5596 - acc: 0.7201 0s - loss: 0.6001 - acc: 0.700 - ETA: 0s - loss: 0.6143 - acc: 0.70 - ETA: 1s - loss: 0.6094 - acc: \n",
      "Epoch 51/150\n",
      "768/768 [==============================] - 1s 700us/step - loss: 0.5380 - acc: 0.7344\n",
      "Epoch 52/150\n",
      "768/768 [==============================] - 1s 1ms/step - loss: 0.5527 - acc: 0.7201A: 1s - loss: 0.5315 - acc - ETA: 0s - loss: 0.5766 - acc: 0.\n",
      "Epoch 53/150\n",
      "768/768 [==============================] - 1s 976us/step - loss: 0.5427 - acc: 0.7266 0s - loss: 0.5418 - acc: 0.\n",
      "Epoch 54/150\n",
      "768/768 [==============================] - 1s 961us/step - loss: 0.5537 - acc: 0.7227\n",
      "Epoch 55/150\n",
      "768/768 [==============================] - 1s 783us/step - loss: 0.5374 - acc: 0.7370 0s - loss: 0.4916 - acc: 0.752 - ETA: 0s - loss: 0.4918 - acc:  - ETA: 0s - loss: 0.5451 - acc: 0.73\n",
      "Epoch 56/150\n",
      "768/768 [==============================] - 1s 1ms/step - loss: 0.5675 - acc: 0.7135A: 2s - loss: 0.5717 - acc - ETA: 0s - loss: 0.5649 - acc: 0.71 - ETA: 0s - loss: 0.5632 - acc: 0.\n",
      "Epoch 57/150\n",
      "768/768 [==============================] - 1s 1ms/step - loss: 0.5453 - acc: 0.7344A: 0s - loss: 0.5256 - acc: 0.74 - ETA: 0s - loss: 0.5206 - acc:\n",
      "Epoch 58/150\n",
      "768/768 [==============================] - 1s 2ms/step - loss: 0.6044 - acc: 0.7201A: 3s - loss: 0.6255 - acc - ETA: 0s - loss: 0.6035 - acc: 0. - ETA: 0s - loss: 0.5944 - acc: 0. - ETA: 0s - loss: 0.5931 - acc: 0.723 - ETA: 0s - loss: 0.5913 - acc: 0.72\n",
      "Epoch 59/150\n",
      "140/768 [====>.........................] - ETA: 0s - loss: 0.5403 - acc: 0.707"
     ]
    },
    {
     "name": "stderr",
     "output_type": "stream",
     "text": [
      "C:\\Users\\Lenovo\\Anaconda3\\lib\\site-packages\\keras\\callbacks.py:116: UserWarning: Method on_batch_end() is slow compared to the batch update (0.102786). Check your callbacks.\n",
      "  % delta_t_median)\n"
     ]
    },
    {
     "name": "stdout",
     "output_type": "stream",
     "text": [
      "768/768 [==============================] - ETA: 0s - loss: 0.5758 - acc: 0.7359- ETA: 0s - loss: 0.5627 - acc: 0 - ETA: 0s - loss: 0.5883 - acc: 0.72 - ETA: 0s - loss: 0.5740 - acc: 0.73 - 1s 2ms/step - loss: 0.5687 - acc: 0.7396\n",
      "Epoch 60/150\n",
      "768/768 [==============================] - 1s 1ms/step - loss: 0.5605 - acc: 0.7344\n",
      "Epoch 61/150\n",
      "768/768 [==============================] - 1s 2ms/step - loss: 0.5408 - acc: 0.7396\n",
      "Epoch 62/150\n",
      "768/768 [==============================] - 1s 956us/step - loss: 0.5446 - acc: 0.7201 0s - loss: 0.5355 - a\n",
      "Epoch 63/150\n",
      "768/768 [==============================] - 1s 2ms/step - loss: 0.5376 - acc: 0.7357A: 1s - loss: 0.5434 - acc: 0.704 - ETA: 1s - loss: 0.5390 - acc: 0\n",
      "Epoch 64/150\n",
      "768/768 [==============================] - 2s 2ms/step - loss: 0.5543 - acc: 0.7357A: 2s - loss: 0.5337 - acc: 0.850 - ETA: 4s - loss: 0.5831 - acc: 0 - ETA: 1s - loss: 0.5451 - acc: 0.71 - ETA: 1s - loss: 0.5415 - acc: 0.72 - ETA: 0s - loss: 0.5516 - acc: 0.7 - ETA: 0s - loss: 0.5534 - acc: - ETA: 0s - loss: 0.5546 - acc: 0.737 - ETA: 0s - loss: 0.5552 - acc: 0.735\n",
      "Epoch 65/150\n",
      "768/768 [==============================] - 1s 1ms/step - loss: 0.5657 - acc: 0.7227A: 0s - loss: 0.5884 - acc:\n",
      "Epoch 66/150\n",
      "768/768 [==============================] - 1s 1ms/step - loss: 0.5475 - acc: 0.7253\n",
      "Epoch 67/150\n",
      "768/768 [==============================] - 1s 1ms/step - loss: 0.5461 - acc: 0.7292A: 0s - loss: 0.5266 - acc: 0\n",
      "Epoch 68/150\n",
      "768/768 [==============================] - 2s 2ms/step - loss: 0.5490 - acc: 0.7331A: 4s - loss: 0.5982 - a - ETA: 1s - loss: 0.5444 - acc\n",
      "Epoch 69/150\n",
      "768/768 [==============================] - 1s 1ms/step - loss: 0.5617 - acc: 0.7448A: 0s - loss: 0.4618 - acc:  - ETA: 0s - loss: 0.5139 - acc: 0.7 - ETA: 0s - loss: 0.5621 - acc: 0.74\n",
      "Epoch 70/150\n",
      "768/768 [==============================] - 1s 1ms/step - loss: 0.5617 - acc: 0.7201A: 0s - loss: 0.5849 - acc: 0.7 - ETA: 0s - loss: 0.5678 - acc: 0.714 - ETA: 0s - loss: 0.5635 - acc: 0.718 - ETA: 0s - loss: 0.5619 - acc: 0.719\n",
      "Epoch 71/150\n",
      "768/768 [==============================] - 1s 2ms/step - loss: 0.5384 - acc: 0.7370A: 2s - loss: 0.3381 - acc: 0.9 - ETA: 0s - loss: 0.5128 - acc: 0 - ETA: 0s - loss: 0.5381 - acc: 0.74 - ETA: 0s - loss: 0.5352 - a - ETA: 0s - loss: 0.5443 - acc: 0.73\n",
      "Epoch 72/150\n",
      "768/768 [==============================] - 1s 1ms/step - loss: 0.5359 - acc: 0.7305\n",
      "Epoch 73/150\n",
      "768/768 [==============================] - 2s 2ms/step - loss: 0.5395 - acc: 0.7331A: 0s - loss: 0.5614 - acc: 0 - ETA: 1s - loss: 0.5375 - acc: 0. - ETA: 0s - loss: 0.5315 - acc: 0.743 - ETA: 0s - loss: 0.5268 - acc: 0.7 - ETA: 0s - loss: 0.5305 - ac\n",
      "Epoch 74/150\n",
      "768/768 [==============================] - 0s 416us/step - loss: 0.5321 - acc: 0.7448\n",
      "Epoch 75/150\n",
      "768/768 [==============================] - 1s 1ms/step - loss: 0.5532 - acc: 0.7227A: 0s - loss: 0.4533 -  - ETA: 0s - loss: 0.5588 - acc: 0.\n",
      "Epoch 76/150\n",
      "768/768 [==============================] - 1s 1ms/step - loss: 0.5268 - acc: 0.7357A: 0s - loss: 0.5409 - acc: 0.71 - ETA: 0s - loss: 0.5344 - acc: 0. - ETA: 0s - loss: 0.5299 - acc: \n",
      "Epoch 77/150\n",
      "768/768 [==============================] - ETA: 0s - loss: 0.5540 - acc: 0.7289- ETA: 2s - loss: 0.5467 - acc: 0 - ETA: 0s - loss: 0.5135 - acc: 0.7 - ETA: 0s - loss: 0.5262 - acc: 0 - 1s 1ms/step - loss: 0.5514 - acc: 0.7305\n",
      "Epoch 78/150\n",
      " 40/768 [>.............................] - ETA: 4s - loss: 0.5549 - acc: 0.7000"
     ]
    },
    {
     "name": "stderr",
     "output_type": "stream",
     "text": [
      "C:\\Users\\Lenovo\\Anaconda3\\lib\\site-packages\\keras\\callbacks.py:116: UserWarning: Method on_batch_end() is slow compared to the batch update (0.108351). Check your callbacks.\n",
      "  % delta_t_median)\n"
     ]
    },
    {
     "name": "stdout",
     "output_type": "stream",
     "text": [
      "768/768 [==============================] - 1s 1ms/step - loss: 0.5239 - acc: 0.7370\n",
      "Epoch 79/150\n",
      "768/768 [==============================] - 1s 1ms/step - loss: 0.5178 - acc: 0.7539A: 1s - loss: 0.4830 - acc: 0. - ETA: 4s - loss: 0.5219 - acc: 0.7 - ETA: 0s - loss: 0.5441 - acc: 0\n",
      "Epoch 80/150\n",
      "768/768 [==============================] - 1s 1ms/step - loss: 0.5389 - acc: 0.7448\n",
      "Epoch 81/150\n",
      "768/768 [==============================] - 1s 841us/step - loss: 0.5314 - acc: 0.7474\n",
      "Epoch 82/150\n",
      "768/768 [==============================] - 1s 1ms/step - loss: 0.5230 - acc: 0.7396\n",
      "Epoch 83/150\n",
      "768/768 [==============================] - 1s 1ms/step - loss: 0.5351 - acc: 0.7383A: 0s - loss: 0.5549 - ac - ETA: 0s - loss: 0.5348 - acc: 0.738 - ETA: 0s - loss: 0.5342 - acc: 0.73\n",
      "Epoch 84/150\n",
      "768/768 [==============================] - 1s 962us/step - loss: 0.5208 - acc: 0.7409 0s - loss: 0.5154 - acc: 0.74\n",
      "Epoch 85/150\n",
      "768/768 [==============================] - 1s 1ms/step - loss: 0.5229 - acc: 0.7448A: 0s - loss: 0.4873 - \n",
      "Epoch 86/150\n",
      "768/768 [==============================] - 1s 2ms/step - loss: 0.5297 - acc: 0.7383A: 1s - loss: 0.4784 - acc: 0.77 - ETA: 0s - loss: 0.5253 - acc\n",
      "Epoch 87/150\n",
      "768/768 [==============================] - 1s 2ms/step - loss: 0.5178 - acc: 0.7539A: 0s - loss: 0.5256 - acc: 0.74 - ETA: 0s - loss: 0.5227 - acc: 0.7\n",
      "Epoch 88/150\n",
      "768/768 [==============================] - 1s 1ms/step - loss: 0.5317 - acc: 0.7526\n",
      "Epoch 89/150\n",
      "768/768 [==============================] - 1s 2ms/step - loss: 0.5818 - acc: 0.7109A: 2s - loss\n",
      "Epoch 90/150\n",
      "768/768 [==============================] - 1s 1ms/step - loss: 0.5229 - acc: 0.7461A: 0s - loss: 0.5272 - acc: 0.74\n",
      "Epoch 91/150\n",
      "140/768 [====>.........................] - ETA: 1s - loss: 0.5766 - acc: 0.7143"
     ]
    },
    {
     "name": "stderr",
     "output_type": "stream",
     "text": [
      "C:\\Users\\Lenovo\\Anaconda3\\lib\\site-packages\\keras\\callbacks.py:116: UserWarning: Method on_batch_end() is slow compared to the batch update (0.106354). Check your callbacks.\n",
      "  % delta_t_median)\n"
     ]
    },
    {
     "name": "stdout",
     "output_type": "stream",
     "text": [
      "768/768 [==============================] - 1s 2ms/step - loss: 0.5385 - acc: 0.7331A: 0s - loss: 0.5278 - acc: - ETA: 0s - loss: 0.5351 - acc: 0.73 - ETA: 0s - loss: 0.5359 - acc: 0\n",
      "Epoch 92/150\n",
      " 40/768 [>.............................] - ETA: 4s - loss: 0.5421 - acc: 0.7000"
     ]
    },
    {
     "name": "stderr",
     "output_type": "stream",
     "text": [
      "C:\\Users\\Lenovo\\Anaconda3\\lib\\site-packages\\keras\\callbacks.py:116: UserWarning: Method on_batch_end() is slow compared to the batch update (0.105319). Check your callbacks.\n",
      "  % delta_t_median)\n"
     ]
    },
    {
     "name": "stdout",
     "output_type": "stream",
     "text": [
      "768/768 [==============================] - 1s 2ms/step - loss: 0.5155 - acc: 0.7513A: 0s - loss: 0.5160 - acc: 0.751\n",
      "Epoch 93/150\n",
      "768/768 [==============================] - 1s 1ms/step - loss: 0.5321 - acc: 0.7292A: 2s - loss: 0.7041 - acc: 0 - ETA: 0s - loss: 0.5347 - acc: 0.71 - ETA: 0s - loss: 0.5222 - acc: 0.719 - ETA: 0s - loss: 0.5271 - acc: 0.719 - ETA: 0s - loss: 0.5238 - acc: 0.720 - ETA: 0s - loss: 0.5328 - acc: 0.\n",
      "Epoch 94/150\n",
      "768/768 [==============================] - 1s 892us/step - loss: 0.5216 - acc: 0.7526 0s - loss: 0.5191 - acc: 0.75\n",
      "Epoch 95/150\n",
      "768/768 [==============================] - 1s 803us/step - loss: 0.5139 - acc: 0.7448\n",
      "Epoch 96/150\n",
      "768/768 [==============================] - 1s 1ms/step - loss: 0.5205 - acc: 0.7565\n",
      "Epoch 97/150\n",
      "768/768 [==============================] - ETA: 0s - loss: 0.5345 - acc: 0.7347- ETA: 0s - loss: 0.5048 - acc: 0.7 - ETA: 0s - loss: 0.5107 - acc: 0.7 - ETA: 0s - loss: 0.5366 - acc:  - 1s 1ms/step - loss: 0.5416 - acc: 0.7318\n",
      "Epoch 98/150\n",
      "768/768 [==============================] - 1s 2ms/step - loss: 0.5337 - acc: 0.7383A: 0s - loss: 0.5315 - acc: 0.7\n",
      "Epoch 99/150\n",
      "768/768 [==============================] - ETA: 0s - loss: 0.5608 - acc: 0.7232- ETA: 0s - loss: 0.4561 - acc: 0 - ETA: 1s - loss: 0.5615 -  - ETA: 1s - loss: 0.5668 - acc:  - 2s 2ms/step - loss: 0.5552 - acc: 0.7292\n",
      "Epoch 100/150\n",
      "768/768 [==============================] - 1s 1ms/step - loss: 0.5240 - acc: 0.7461A: 0s - loss: 0.553\n",
      "Epoch 101/150\n",
      "768/768 [==============================] - 1s 1ms/step - loss: 0.5218 - acc: 0.7396A: 0s - loss: 0.5250 - acc: 0.7 - ETA: 0s - loss: 0.5234 - acc: 0.\n",
      "Epoch 102/150\n",
      "110/768 [===>..........................] - ETA: 1s - loss: 0.5588 - acc: 0.7091"
     ]
    },
    {
     "name": "stderr",
     "output_type": "stream",
     "text": [
      "C:\\Users\\Lenovo\\Anaconda3\\lib\\site-packages\\keras\\callbacks.py:116: UserWarning: Method on_batch_end() is slow compared to the batch update (0.109910). Check your callbacks.\n",
      "  % delta_t_median)\n"
     ]
    },
    {
     "name": "stdout",
     "output_type": "stream",
     "text": [
      "768/768 [==============================] - 2s 2ms/step - loss: 0.5672 - acc: 0.7227A: 1s - loss: 0.6175 - - ETA: 0s - loss: 0.5798 - acc: 0\n",
      "Epoch 103/150\n",
      "768/768 [==============================] - 1s 1ms/step - loss: 0.5201 - acc: 0.7331A: 0s - loss: 0.5113 - a\n",
      "Epoch 104/150\n",
      "768/768 [==============================] - 1s 2ms/step - loss: 0.5343 - acc: 0.7292A: 2s - loss: 0.5269 - acc:  - ETA: 0s - loss: 0.4419 - acc: 0.807 - ETA: 1s - loss: 0.4517 - \n",
      "Epoch 105/150\n",
      "768/768 [==============================] - 2s 2ms/step - loss: 0.5092 - acc: 0.7513\n",
      "Epoch 106/150\n",
      "768/768 [==============================] - 1s 1ms/step - loss: 0.5186 - acc: 0.7487A: 0s - loss: 0.5106 - acc: - ETA: 0s - loss: 0.5130 - acc: 0.7\n",
      "Epoch 107/150\n",
      "768/768 [==============================] - 1s 1ms/step - loss: 0.5582 - acc: 0.7344A: 0s - loss: 0.5168 - acc: 0.743 - ETA: 0s - loss: 0.5476 - acc: \n",
      "Epoch 108/150\n",
      "768/768 [==============================] - 1s 1ms/step - loss: 0.5232 - acc: 0.7409A: 0s - loss: 0.5415 - acc: 0.72 - ETA: 0s - loss: 0.5351 - acc: \n",
      "Epoch 109/150\n",
      "768/768 [==============================] - 2s 3ms/step - loss: 0.5355 - acc: 0.7305A: 2s - loss: 0.5319 - acc: 0.72 - ETA: 1s - loss: 0.5212 - acc: 0 - ETA: 0s - loss: 0.5317 - acc: 0.7 - ETA: 0s - loss: 0.5297 - acc: 0.728 - ETA: 0s - loss: 0.5309 - a\n",
      "Epoch 110/150\n",
      "768/768 [==============================] - 1s 1ms/step - loss: 0.5189 - acc: 0.7370\n",
      "Epoch 111/150\n",
      "768/768 [==============================] - 2s 3ms/step - loss: 0.5206 - acc: 0.7500A: 0s - loss: 0.5192 - acc: 0.73 - ETA: 0s - loss: 0.5136 - ETA: 0s - loss: 0.5236 - acc: 0.74\n",
      "Epoch 112/150\n",
      "768/768 [==============================] - 1s 2ms/step - loss: 0.5093 - acc: 0.7526\n",
      "Epoch 113/150\n",
      " 50/768 [>.............................] - ETA: 4s - loss: 0.4579 - acc: 0.7600"
     ]
    },
    {
     "name": "stderr",
     "output_type": "stream",
     "text": [
      "C:\\Users\\Lenovo\\Anaconda3\\lib\\site-packages\\keras\\callbacks.py:116: UserWarning: Method on_batch_end() is slow compared to the batch update (0.111561). Check your callbacks.\n",
      "  % delta_t_median)\n"
     ]
    },
    {
     "name": "stdout",
     "output_type": "stream",
     "text": [
      "768/768 [==============================] - 2s 3ms/step - loss: 0.5176 - acc: 0.7409A: 0s - loss: 0.5198 - acc: 0.7\n",
      "Epoch 114/150\n",
      "768/768 [==============================] - 2s 2ms/step - loss: 0.5072 - acc: 0.7474A: 2s - loss: 0.5185 - acc: 0.74 - ETA: 1s - loss: 0.4920 - acc - ETA: 0s - loss: 0.5065 - a\n",
      "Epoch 115/150\n",
      "768/768 [==============================] - 1s 719us/step - loss: 0.5321 - acc: 0.7409 0s - loss: 0.5140 - acc: 0.7\n",
      "Epoch 116/150\n",
      "768/768 [==============================] - 1s 2ms/step - loss: 0.5152 - acc: 0.7435A: 1s - loss: 0.5186 - a - ETA: 0s - loss: 0.5151 - acc:\n",
      "Epoch 117/150\n",
      "768/768 [==============================] - 1s 658us/step - loss: 0.5279 - acc: 0.7448\n",
      "Epoch 118/150\n",
      "768/768 [==============================] - 2s 2ms/step - loss: 0.5228 - acc: 0.7409A: 1s - loss: 0.5210 - acc - ETA: 0s - loss: 0.5011 - acc: 0 - ETA: 0s - loss: 0.5219 - acc\n",
      "Epoch 119/150\n",
      "768/768 [==============================] - 1s 2ms/step - loss: 0.5197 - acc: 0.7539A: 4s - loss: 0.4990 - a - ETA: 0s - loss: 0.5164 - acc: 0.7 - ETA: 0s - loss: 0.5279 - acc: 0.74\n",
      "Epoch 120/150\n",
      "768/768 [==============================] - 1s 2ms/step - loss: 0.5190 - acc: 0.7474\n",
      "Epoch 121/150\n",
      "768/768 [==============================] - 1s 1ms/step - loss: 0.5091 - acc: 0.7474A: 3s - loss: 0.5155 - a\n",
      "Epoch 122/150\n",
      "768/768 [==============================] - 2s 3ms/step - loss: 0.5457 - acc: 0.7292A: 0s - loss: 0.5480 - acc: 0.72 - ETA: 0s - loss: 0.5435 - acc: 0.73 - ETA: 0s - loss: 0.5431 - acc: 0. - ETA: 0s - loss: 0.5431 - acc:  - ETA: 0s - loss: 0.5446 - acc:  - ETA: 0s - loss: 0.5510 - acc: \n",
      "Epoch 123/150\n",
      "768/768 [==============================] - 3s 3ms/step - loss: 0.5253 - acc: 0.7500A: 1s - loss: 0.7056 - acc: 0.6 - ETA: 1s - loss: 0.6058 - acc: 0 - ETA: 2s - loss: 0.5773 - acc - ETA: 2s - loss: 0.5342 - a - ETA: 1s - loss: 0.5265 - acc\n",
      "Epoch 124/150\n",
      " 80/768 [==>...........................] - ETA: 3s - loss: 0.6501 - acc: 0.6500"
     ]
    },
    {
     "name": "stderr",
     "output_type": "stream",
     "text": [
      "C:\\Users\\Lenovo\\Anaconda3\\lib\\site-packages\\keras\\callbacks.py:116: UserWarning: Method on_batch_end() is slow compared to the batch update (0.112140). Check your callbacks.\n",
      "  % delta_t_median)\n"
     ]
    },
    {
     "name": "stdout",
     "output_type": "stream",
     "text": [
      "768/768 [==============================] - 2s 2ms/step - loss: 0.5239 - acc: 0.7318\n",
      "Epoch 125/150\n",
      "768/768 [==============================] - 2s 3ms/step - loss: 0.5141 - acc: 0.7591A: 0s - loss: 0.4961 - acc\n",
      "Epoch 126/150\n",
      "768/768 [==============================] - 3s 3ms/step - loss: 0.5081 - acc: 0.7565A: 1s - loss: 0.5434 - acc:  - ETA: 0s - loss: 0.5290 - ac - ETA: 0s - loss: 0.5067 - acc: 0.750 - ETA: 0s - loss: 0.5025 - acc: 0.7 - ETA: 0s - loss: 0.5043 - acc:  - ETA: 0s - loss: 0.5129 - acc: 0 - ETA: 0s - loss: 0.5129 - acc: 0.75\n",
      "Epoch 127/150\n",
      "768/768 [==============================] - 2s 2ms/step - loss: 0.5171 - acc: 0.7552\n",
      "Epoch 128/150\n",
      "768/768 [==============================] - 1s 1ms/step - loss: 0.5108 - acc: 0.7539A: 0s - loss: 0.5358 - acc: 0.729 - ETA: 0s - loss: 0.5347 - acc: 0.\n",
      "Epoch 129/150\n",
      "768/768 [==============================] - 3s 4ms/step - loss: 0.4999 - acc: 0.7526A: 1s - loss: 0.4405 -  - ETA: 1s - loss: 0.4644 - acc: 0. - ETA: 1s - loss: 0.4709 - acc - ETA: 0s - loss: 0.5091 - acc:  - ETA: 0s - loss: 0.5028 - acc: 0.754 - ETA: 0s - loss: 0.5038 - acc: 0.\n",
      "Epoch 130/150\n",
      "768/768 [==============================] - 1s 1ms/step - loss: 0.5400 - acc: 0.7240A: 0s - loss: 0.5391 - acc: 0.72 - ETA: 0s - loss: 0.5381 - acc: 0.72\n",
      "Epoch 131/150\n",
      "768/768 [==============================] - 1s 1ms/step - loss: 0.4968 - acc: 0.7500A: 0s - loss: 0.4838 - acc: 0. - ETA: 0s - loss: 0.5003 - acc: 0.7\n",
      "Epoch 132/150\n",
      "768/768 [==============================] - 2s 2ms/step - loss: 0.5242 - acc: 0.7292A: 0s - loss: 0.5434 - acc: 0. - ETA: 0s - loss: 0.5414 - acc: 0.71 - ETA: 0s - loss: 0.5280 - acc: 0.7 - ETA: 0s - loss: 0.5197 - acc: 0.72 - ETA: 0s - loss: 0.5247 - acc: 0.72 - ETA: 0s - loss: 0.5271 - acc: 0.726\n",
      "Epoch 133/150\n",
      "768/768 [==============================] - 1s 1ms/step - loss: 0.5446 - acc: 0.7344A: 0s - loss: 0.5598 - acc: 0. - ETA: 0s - loss: 0.5451 - acc: 0.734\n",
      "Epoch 134/150\n",
      "768/768 [==============================] - 1s 1ms/step - loss: 0.5272 - acc: 0.7357\n",
      "Epoch 135/150\n",
      "768/768 [==============================] - 1s 2ms/step - loss: 0.5098 - acc: 0.7487A: 0s - los\n",
      "Epoch 136/150\n",
      "768/768 [==============================] - 1s 2ms/step - loss: 0.5030 - acc: 0.7552A: 2s - loss: 0.6070 - ac - ETA: 0s - loss: 0.5270 - acc: 0.743 - ETA: 1s - loss: 0.5221 - acc\n",
      "Epoch 137/150\n",
      "768/768 [==============================] - 1s 1ms/step - loss: 0.5247 - acc: 0.7305A: 0s - loss: 0.5136 - acc: 0.7 - ETA: 0s - loss: 0.5187 - a\n",
      "Epoch 138/150\n",
      "768/768 [==============================] - 1s 672us/step - loss: 0.5474 - acc: 0.7305 0s - loss: 0.6488 - acc\n",
      "Epoch 139/150\n",
      "768/768 [==============================] - 1s 2ms/step - loss: 0.5151 - acc: 0.7474A: 0s - loss: 0.5041 - acc: 0.75 - ETA: 0s - loss: 0.5075 - acc: 0.746 - ETA: 0s - loss: 0.5036 - acc: 0. - ETA: 0s - loss: 0.5184 - acc: 0.7\n",
      "Epoch 140/150\n",
      "768/768 [==============================] - 1s 1ms/step - loss: 0.5277 - acc: 0.7331A: 0s - loss: 0.5717 - a\n",
      "Epoch 141/150\n",
      "768/768 [==============================] - 2s 2ms/step - loss: 0.5110 - acc: 0.7461A: 0s - loss: 0.5091 - acc: 0.74\n",
      "Epoch 142/150\n",
      "768/768 [==============================] - 1s 778us/step - loss: 0.5193 - acc: 0.7409 0s - loss: 0.5468 - acc\n",
      "Epoch 143/150\n",
      "768/768 [==============================] - 1s 873us/step - loss: 0.5185 - acc: 0.7370\n",
      "Epoch 144/150\n",
      "768/768 [==============================] - 1s 1ms/step - loss: 0.5087 - acc: 0.7474A: 0s - loss: 0.5049 - acc: 0.751 - ETA: 0s - loss: 0.5078 - acc: 0.\n",
      "Epoch 145/150\n",
      "768/768 [==============================] - ETA: 0s - loss: 0.5315 - acc: 0.743 - 1s 977us/step - loss: 0.5390 - acc: 0.7396\n",
      "Epoch 146/150\n",
      "768/768 [==============================] - ETA: 0s - loss: 0.5381 - acc: 0.7427- ETA: 1s - loss: 0.4565 - acc: 0.7 - ETA: 2s - loss: 0.5511 - acc: 0 - ETA: 0s - loss: 0.5952 - acc: 0.71 - ETA: 0s - loss: 0.5780 - acc:  - ETA: 0s - loss: 0.5356 - acc: 0 - 1s 2ms/step - loss: 0.5336 - acc: 0.7435\n",
      "Epoch 147/150\n",
      "768/768 [==============================] - 1s 1ms/step - loss: 0.5082 - acc: 0.7526\n",
      "Epoch 148/150\n",
      "768/768 [==============================] - 1s 1ms/step - loss: 0.5084 - acc: 0.7500A: 0s - loss: 0.4516 - acc: 0.7 - ETA: 0s - loss: 0.4889 - a\n",
      "Epoch 149/150\n",
      "768/768 [==============================] - 1s 934us/step - loss: 0.5088 - acc: 0.7461 0s - loss: 0.4737 - acc:  - ETA: 0s - loss: 0.4919 - acc: 0\n",
      "Epoch 150/150\n",
      "768/768 [==============================] - ETA: 0s - loss: 0.4933 - acc: 0.7603- ETA: 0s - loss: 0.4832 - acc: - ETA: 0s - loss: 0.4940 - acc: 0.7 - 1s 2ms/step - loss: 0.5018 - acc: 0.7539\n"
     ]
    },
    {
     "data": {
      "text/plain": [
       "<keras.callbacks.History at 0x1f113583da0>"
      ]
     },
     "execution_count": 14,
     "metadata": {},
     "output_type": "execute_result"
    }
   ],
   "source": [
    "# Fit the Model\n",
    "model.fit(X,Y, epochs=150, batch_size=10)"
   ]
  },
  {
   "cell_type": "markdown",
   "metadata": {},
   "source": [
    "# Evaluate Model\n",
    "\n",
    "After performing the training on our neural network and given dataset, we need to evaluate the performance of the network on the same dataset. This will give us an idea of how well we have modeled the dataset (e.g. train accuracy), but **no idea on how well the algorithm might perform on new data.**\n",
    "\n",
    "This was done for simplicity but it is highly required that your data be partition to train and test datasets for training and \n",
    "evaluation of your model."
   ]
  },
  {
   "cell_type": "code",
   "execution_count": 18,
   "metadata": {},
   "outputs": [
    {
     "name": "stdout",
     "output_type": "stream",
     "text": [
      "768/768 [==============================] - 0s 130us/step\n",
      "\n",
      " acc: 76.43%\n"
     ]
    }
   ],
   "source": [
    "# Evaluate the model\n",
    "scores = model.evaluate(X,Y)\n",
    "print(\"\\n %s: %.2f%%\" % (model.metrics_names[1],scores[1]*100))"
   ]
  },
  {
   "cell_type": "code",
   "execution_count": null,
   "metadata": {},
   "outputs": [],
   "source": []
  }
 ],
 "metadata": {
  "kernelspec": {
   "display_name": "Python 3",
   "language": "python",
   "name": "python3"
  },
  "language_info": {
   "codemirror_mode": {
    "name": "ipython",
    "version": 3
   },
   "file_extension": ".py",
   "mimetype": "text/x-python",
   "name": "python",
   "nbconvert_exporter": "python",
   "pygments_lexer": "ipython3",
   "version": "3.5.4"
  }
 },
 "nbformat": 4,
 "nbformat_minor": 2
}
